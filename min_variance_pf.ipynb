{
 "cells": [
  {
   "cell_type": "code",
   "execution_count": null,
   "metadata": {},
   "outputs": [],
   "source": [
    "import numpy as np \n",
    "import pandas as pd \n",
    "import matplotlib.pyplot as plt\n",
    "from scipy.optimize import minimize\n",
    "from tqdm import tqdm\n",
    "from ryu_tool import mytool\n",
    "from ryu_tool.min_variance import PortfolioOptimzer"
   ]
  },
  {
   "cell_type": "code",
   "execution_count": null,
   "metadata": {},
   "outputs": [],
   "source": [
    "# 필요한 파일을 불러옵니다\n",
    "stock_price = pd.read_pickle(\"Data/allstock_reduced.pickle\")\n",
    "spy_mask = pd.read_pickle(\"Data/spx_mask.pickle\")"
   ]
  },
  {
   "cell_type": "code",
   "execution_count": null,
   "metadata": {},
   "outputs": [],
   "source": [
    "portfolio = PortfolioOptimzer(price=stock_price,\n",
    "                              spx_mask=spy_mask)"
   ]
  },
  {
   "cell_type": "code",
   "execution_count": null,
   "metadata": {},
   "outputs": [],
   "source": [
    "pf_rtn, weight_df = portfolio.run_optimizer(start_year=\"2020\",\n",
    "                                            end_year=\"2023\",\n",
    "                                            rebalancing=\"Q\",\n",
    "                                            shrinkage_method=\"clipping\",\n",
    "                                            args={\"k\":5})"
   ]
  },
  {
   "cell_type": "code",
   "execution_count": null,
   "metadata": {},
   "outputs": [],
   "source": [
    "mytool.draw_return_result({\"title\": pf_rtn})"
   ]
  },
  {
   "cell_type": "code",
   "execution_count": null,
   "metadata": {},
   "outputs": [],
   "source": [
    "weight_df.iloc[:,:100].plot(figsize=(24,12))"
   ]
  }
 ],
 "metadata": {
  "kernelspec": {
   "display_name": "base",
   "language": "python",
   "name": "python3"
  },
  "language_info": {
   "codemirror_mode": {
    "name": "ipython",
    "version": 3
   },
   "file_extension": ".py",
   "mimetype": "text/x-python",
   "name": "python",
   "nbconvert_exporter": "python",
   "pygments_lexer": "ipython3",
   "version": "3.9.13"
  },
  "orig_nbformat": 4
 },
 "nbformat": 4,
 "nbformat_minor": 2
}
