{
 "cells": [
  {
   "cell_type": "code",
   "execution_count": 1,
   "metadata": {},
   "outputs": [],
   "source": [
    "import numpy as np \n",
    "import pandas as pd \n",
    "import matplotlib.pyplot as plt\n",
    "from scipy.optimize import minimize\n",
    "from tqdm import tqdm\n",
    "from object_function import * \n",
    "from shrinkage_method import *"
   ]
  },
  {
   "cell_type": "code",
   "execution_count": 2,
   "metadata": {},
   "outputs": [],
   "source": [
    "price = pd.read_pickle(\"C:\\\\Jehyeon\\\\Portfolio-Optimization-2023-FR-Project-\\\\Data\\\\allstock_reduced.pickle\")\n",
    "spx_mask = pd.read_pickle(\"C:\\\\Jehyeon\\\\Portfolio-Optimization-2023-FR-Project-\\\\Data\\\\spx_mask.pickle\")"
   ]
  },
  {
   "cell_type": "code",
   "execution_count": 3,
   "metadata": {},
   "outputs": [],
   "source": [
    "rtn = price.pct_change(fill_method=None)"
   ]
  },
  {
   "cell_type": "code",
   "execution_count": 4,
   "metadata": {},
   "outputs": [
    {
     "data": {
      "text/plain": [
       "DatetimeIndex(['2020-01-01', '2020-04-01', '2020-07-01', '2020-10-01',\n",
       "               '2021-01-01', '2021-04-01', '2021-07-01', '2021-10-01',\n",
       "               '2022-01-01'],\n",
       "              dtype='datetime64[ns]', freq='QS-JAN')"
      ]
     },
     "execution_count": 4,
     "metadata": {},
     "output_type": "execute_result"
    }
   ],
   "source": [
    "pd.date_range(start=\"2020\",\n",
    "              end=\"2022\",freq=\"QS\")"
   ]
  },
  {
   "cell_type": "code",
   "execution_count": 5,
   "metadata": {},
   "outputs": [
    {
     "data": {
      "text/plain": [
       "DatetimeIndex(['2020-03-31', '2020-06-30', '2020-09-30', '2020-12-31',\n",
       "               '2021-03-31', '2021-06-30', '2021-09-30', '2021-12-31'],\n",
       "              dtype='datetime64[ns]', freq='Q-DEC')"
      ]
     },
     "execution_count": 5,
     "metadata": {},
     "output_type": "execute_result"
    }
   ],
   "source": [
    "pd.date_range(start=\"2020\",\n",
    "              end=\"2022\",freq=\"Q\")"
   ]
  },
  {
   "cell_type": "code",
   "execution_count": 6,
   "metadata": {},
   "outputs": [],
   "source": [
    "def run_optimizer(rtn_df:pd.DataFrame, spx_mask:pd.DataFrame,\n",
    "                  start_year:str, end_year:str, \n",
    "                  rebalancing:str, shrinkage_method=\"None\"):\n",
    "    constraints = ({'type': 'eq', 'fun': lambda x: np.sum(x) - 1})\n",
    "    shrink = {\"None\": no_shrinkage,\n",
    "              \"linear\":linear_shrinkage,\n",
    "              \"constant\":constant_correlation_model,\n",
    "              \"clipping\":eigenvalue_clipping,\n",
    "              \"clustering\":kmeans_clustering}\n",
    "\n",
    "    weight_df = pd.DataFrame(columns=rtn_df.columns) # weight를 담을 dataframe\n",
    "\n",
    "    start_idx = pd.date_range(start_year,end_year, freq=f\"{rebalancing}S\")\n",
    "    end_idx = pd.date_range(start_year,end_year, freq=f\"{rebalancing}\")\n",
    "\n",
    "    for rebalancing_date in tqdm(end_idx):\n",
    "            # start~end의 주가를 보고 포폴 구성(Look Back Window는 1년이 된다)\n",
    "            start = (rebalancing_date - pd.Timedelta(days=365)).strftime(\"%Y-%m\") \n",
    "            end = (rebalancing_date - pd.Timedelta(days=1))             \n",
    "            \n",
    "            mask_sample = spx_mask.loc[:end].iloc[-1]\n",
    "            universe = mask_sample.loc[~mask_sample.isna()].index # S&P500 구성종목을 가져옵니다\n",
    "            rtn_lookback = rtn_df.loc[start:end, universe] \n",
    "           \n",
    "            rtn_vol = np.diag(rtn_lookback.std())\n",
    "            corr_matrix = rtn_lookback.corr() # corr_matrix를 추정하고, optimizer에 넣기 전에 cov_matrix로 변환해야함\n",
    "            \n",
    "            mean_return = rtn_lookback.mean()\n",
    "            \n",
    "            if shrinkage_method == \"None\" or shrinkage_method == \"constant\":\n",
    "                args = {\"args\":0}\n",
    "            \n",
    "            shrinked_corr_matrix = shrink[shrinkage_method](corr_matrix = corr_matrix, **args)\n",
    "            cov_matrix = rtn_vol.dot(shrinked_corr_matrix).dot(rtn_vol) # corr matrix를 cov matrix로 변경\n",
    "            \n",
    "            if shrinkage_method == \"clustering\":\n",
    "                self.k_dict[start_idx[i]] = self.k\n",
    "                        \n",
    "            bounds = tuple((0,0.05) for _ in range(len(rtn_lookback.columns)))\n",
    "            initial_weights = np.ones(len(rtn_lookback.columns)) / len(rtn_lookback.columns)\n",
    "            \n",
    "            # 최적화 수행\n",
    "            result = minimize(self.__obj_sharpe, \n",
    "                              initial_weights, \n",
    "                              args=(cov_matrix,),\n",
    "                              method='SLSQP', \n",
    "                              constraints=constraints, \n",
    "                              bounds=bounds\n",
    "                              )\n",
    "            min_variance_weights = result.x\n",
    "            weight_df.loc[start_idx[i], universe] = min_variance_weights\n",
    "        \n",
    "        print(\"Jobs Done...\")\n",
    "        print(\"You can check .rebalancing_date\")\n",
    "        return weight_df"
   ]
  },
  {
   "cell_type": "code",
   "execution_count": null,
   "metadata": {},
   "outputs": [],
   "source": []
  }
 ],
 "metadata": {
  "kernelspec": {
   "display_name": "base",
   "language": "python",
   "name": "python3"
  },
  "language_info": {
   "codemirror_mode": {
    "name": "ipython",
    "version": 3
   },
   "file_extension": ".py",
   "mimetype": "text/x-python",
   "name": "python",
   "nbconvert_exporter": "python",
   "pygments_lexer": "ipython3",
   "version": "3.9.13"
  },
  "orig_nbformat": 4
 },
 "nbformat": 4,
 "nbformat_minor": 2
}
