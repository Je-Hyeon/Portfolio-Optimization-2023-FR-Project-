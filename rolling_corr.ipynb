{
 "cells": [
  {
   "cell_type": "code",
   "execution_count": 15,
   "metadata": {},
   "outputs": [],
   "source": [
    "import numpy as np\n",
    "import pandas as pd\n",
    "import seaborn as sns\n",
    "import matplotlib.pyplot as plt"
   ]
  },
  {
   "cell_type": "code",
   "execution_count": 16,
   "metadata": {},
   "outputs": [
    {
     "data": {
      "text/plain": [
       "Index(['VTI', 'TLT', 'SHY', 'GLD', 'GSG', 'VNQ'], dtype='object')"
      ]
     },
     "execution_count": 16,
     "metadata": {},
     "output_type": "execute_result"
    }
   ],
   "source": [
    "etf = pd.read_csv(\"ETF.csv\", index_col=0, parse_dates=True)\n",
    "\n",
    "after2007 = etf[\"2007\":]\n",
    "\n",
    "after2007.columns = [\"VTI\", \"TLT\", \"SHY\", \"GLD\", \"GSG\", \"VNQ\"]\n",
    "\n",
    "after2007.columns"
   ]
  },
  {
   "cell_type": "code",
   "execution_count": 17,
   "metadata": {},
   "outputs": [
    {
     "data": {
      "text/html": [
       "<div>\n",
       "<style scoped>\n",
       "    .dataframe tbody tr th:only-of-type {\n",
       "        vertical-align: middle;\n",
       "    }\n",
       "\n",
       "    .dataframe tbody tr th {\n",
       "        vertical-align: top;\n",
       "    }\n",
       "\n",
       "    .dataframe thead th {\n",
       "        text-align: right;\n",
       "    }\n",
       "</style>\n",
       "<table border=\"1\" class=\"dataframe\">\n",
       "  <thead>\n",
       "    <tr style=\"text-align: right;\">\n",
       "      <th></th>\n",
       "      <th></th>\n",
       "      <th>VTI</th>\n",
       "      <th>TLT</th>\n",
       "      <th>SHY</th>\n",
       "      <th>GLD</th>\n",
       "      <th>GSG</th>\n",
       "      <th>VNQ</th>\n",
       "    </tr>\n",
       "    <tr>\n",
       "      <th>date</th>\n",
       "      <th></th>\n",
       "      <th></th>\n",
       "      <th></th>\n",
       "      <th></th>\n",
       "      <th></th>\n",
       "      <th></th>\n",
       "      <th></th>\n",
       "    </tr>\n",
       "  </thead>\n",
       "  <tbody>\n",
       "    <tr>\n",
       "      <th rowspan=\"5\" valign=\"top\">2007-03-15</th>\n",
       "      <th>VTI</th>\n",
       "      <td>1.000000</td>\n",
       "      <td>-0.593365</td>\n",
       "      <td>-0.548386</td>\n",
       "      <td>0.605344</td>\n",
       "      <td>0.114214</td>\n",
       "      <td>0.874822</td>\n",
       "    </tr>\n",
       "    <tr>\n",
       "      <th>TLT</th>\n",
       "      <td>-0.593365</td>\n",
       "      <td>1.000000</td>\n",
       "      <td>0.875945</td>\n",
       "      <td>-0.091643</td>\n",
       "      <td>0.430606</td>\n",
       "      <td>-0.558630</td>\n",
       "    </tr>\n",
       "    <tr>\n",
       "      <th>SHY</th>\n",
       "      <td>-0.548386</td>\n",
       "      <td>0.875945</td>\n",
       "      <td>1.000000</td>\n",
       "      <td>0.134672</td>\n",
       "      <td>0.511091</td>\n",
       "      <td>-0.400901</td>\n",
       "    </tr>\n",
       "    <tr>\n",
       "      <th>GLD</th>\n",
       "      <td>0.605344</td>\n",
       "      <td>-0.091643</td>\n",
       "      <td>0.134672</td>\n",
       "      <td>1.000000</td>\n",
       "      <td>0.739066</td>\n",
       "      <td>0.767668</td>\n",
       "    </tr>\n",
       "    <tr>\n",
       "      <th>GSG</th>\n",
       "      <td>0.114214</td>\n",
       "      <td>0.430606</td>\n",
       "      <td>0.511091</td>\n",
       "      <td>0.739066</td>\n",
       "      <td>1.000000</td>\n",
       "      <td>0.320217</td>\n",
       "    </tr>\n",
       "    <tr>\n",
       "      <th>...</th>\n",
       "      <th>...</th>\n",
       "      <td>...</td>\n",
       "      <td>...</td>\n",
       "      <td>...</td>\n",
       "      <td>...</td>\n",
       "      <td>...</td>\n",
       "      <td>...</td>\n",
       "    </tr>\n",
       "    <tr>\n",
       "      <th rowspan=\"5\" valign=\"top\">2022-12-30</th>\n",
       "      <th>TLT</th>\n",
       "      <td>0.575518</td>\n",
       "      <td>1.000000</td>\n",
       "      <td>0.827689</td>\n",
       "      <td>0.756757</td>\n",
       "      <td>-0.821346</td>\n",
       "      <td>0.711036</td>\n",
       "    </tr>\n",
       "    <tr>\n",
       "      <th>SHY</th>\n",
       "      <td>0.591194</td>\n",
       "      <td>0.827689</td>\n",
       "      <td>1.000000</td>\n",
       "      <td>0.805307</td>\n",
       "      <td>-0.662278</td>\n",
       "      <td>0.658679</td>\n",
       "    </tr>\n",
       "    <tr>\n",
       "      <th>GLD</th>\n",
       "      <td>0.473590</td>\n",
       "      <td>0.756757</td>\n",
       "      <td>0.805307</td>\n",
       "      <td>1.000000</td>\n",
       "      <td>-0.609124</td>\n",
       "      <td>0.622012</td>\n",
       "    </tr>\n",
       "    <tr>\n",
       "      <th>GSG</th>\n",
       "      <td>-0.213091</td>\n",
       "      <td>-0.821346</td>\n",
       "      <td>-0.662278</td>\n",
       "      <td>-0.609124</td>\n",
       "      <td>1.000000</td>\n",
       "      <td>-0.325928</td>\n",
       "    </tr>\n",
       "    <tr>\n",
       "      <th>VNQ</th>\n",
       "      <td>0.932883</td>\n",
       "      <td>0.711036</td>\n",
       "      <td>0.658679</td>\n",
       "      <td>0.622012</td>\n",
       "      <td>-0.325928</td>\n",
       "      <td>1.000000</td>\n",
       "    </tr>\n",
       "  </tbody>\n",
       "</table>\n",
       "<p>23874 rows × 6 columns</p>\n",
       "</div>"
      ],
      "text/plain": [
       "                     VTI       TLT       SHY       GLD       GSG       VNQ\n",
       "date                                                                      \n",
       "2007-03-15 VTI  1.000000 -0.593365 -0.548386  0.605344  0.114214  0.874822\n",
       "           TLT -0.593365  1.000000  0.875945 -0.091643  0.430606 -0.558630\n",
       "           SHY -0.548386  0.875945  1.000000  0.134672  0.511091 -0.400901\n",
       "           GLD  0.605344 -0.091643  0.134672  1.000000  0.739066  0.767668\n",
       "           GSG  0.114214  0.430606  0.511091  0.739066  1.000000  0.320217\n",
       "...                  ...       ...       ...       ...       ...       ...\n",
       "2022-12-30 TLT  0.575518  1.000000  0.827689  0.756757 -0.821346  0.711036\n",
       "           SHY  0.591194  0.827689  1.000000  0.805307 -0.662278  0.658679\n",
       "           GLD  0.473590  0.756757  0.805307  1.000000 -0.609124  0.622012\n",
       "           GSG -0.213091 -0.821346 -0.662278 -0.609124  1.000000 -0.325928\n",
       "           VNQ  0.932883  0.711036  0.658679  0.622012 -0.325928  1.000000\n",
       "\n",
       "[23874 rows x 6 columns]"
      ]
     },
     "execution_count": 17,
     "metadata": {},
     "output_type": "execute_result"
    }
   ],
   "source": [
    "rolling_corr = after2007.rolling(window=50).corr()\n",
    "\n",
    "rolling_corr.dropna()"
   ]
  },
  {
   "cell_type": "code",
   "execution_count": 18,
   "metadata": {},
   "outputs": [
    {
     "data": {
      "text/plain": [
       "Index(['2007', '2008', '2009', '2010', '2011', '2012', '2013', '2014', '2015',\n",
       "       '2016', '2017', '2018', '2019', '2020', '2021'],\n",
       "      dtype='object')"
      ]
     },
     "execution_count": 18,
     "metadata": {},
     "output_type": "execute_result"
    }
   ],
   "source": [
    "years = pd.date_range(\"2007\",\"2022\",freq='Y').strftime('%Y')\n",
    "years"
   ]
  },
  {
   "cell_type": "code",
   "execution_count": 19,
   "metadata": {},
   "outputs": [],
   "source": [
    "corr_values = rolling_corr.loc[:, ('VTI', 'TLT')]\n",
    "corr_matrix = corr_values.unstack()"
   ]
  },
  {
   "cell_type": "code",
   "execution_count": 20,
   "metadata": {},
   "outputs": [
    {
     "data": {
      "text/plain": [
       "MultiIndex([('VTI', 'GLD'),\n",
       "            ('VTI', 'GSG'),\n",
       "            ('VTI', 'SHY'),\n",
       "            ('VTI', 'TLT'),\n",
       "            ('VTI', 'VNQ'),\n",
       "            ('VTI', 'VTI'),\n",
       "            ('TLT', 'GLD'),\n",
       "            ('TLT', 'GSG'),\n",
       "            ('TLT', 'SHY'),\n",
       "            ('TLT', 'TLT'),\n",
       "            ('TLT', 'VNQ'),\n",
       "            ('TLT', 'VTI')],\n",
       "           )"
      ]
     },
     "execution_count": 20,
     "metadata": {},
     "output_type": "execute_result"
    }
   ],
   "source": [
    "corr_matrix_T = corr_matrix.T\n",
    "corr_matrix_T.index"
   ]
  },
  {
   "cell_type": "code",
   "execution_count": 21,
   "metadata": {},
   "outputs": [
    {
     "data": {
      "image/png": "[encoded data removed]",
      "text/plain": [
       "<Figure size 640x480 with 2 Axes>"
      ]
     },
     "metadata": {},
     "output_type": "display_data"
    }
   ],
   "source": [
    "heatmap = sns.heatmap(corr_matrix_T, xticklabels=years)"
   ]
  }
 ],
 "metadata": {
  "kernelspec": {
   "display_name": "base",
   "language": "python",
   "name": "python3"
  },
  "language_info": {
   "codemirror_mode": {
    "name": "ipython",
    "version": 3
   },
   "file_extension": ".py",
   "mimetype": "text/x-python",
   "name": "python",
   "nbconvert_exporter": "python",
   "pygments_lexer": "ipython3",
   "version": "3.9.13"
  },
  "orig_nbformat": 4
 },
 "nbformat": 4,
 "nbformat_minor": 2
}
