{
 "cells": [
  {
   "attachments": {},
   "cell_type": "markdown",
   "metadata": {},
   "source": [
    "S&P500 Index를 만들어보자"
   ]
  },
  {
   "cell_type": "code",
   "execution_count": 1,
   "metadata": {},
   "outputs": [],
   "source": [
    "import numpy as np\n",
    "import pandas as pd \n",
    "import matplotlib.pyplot as plt"
   ]
  },
  {
   "cell_type": "code",
   "execution_count": 2,
   "metadata": {},
   "outputs": [],
   "source": [
    "listing = pd.read_pickle(\"sp500_list_start_end.pickle\")"
   ]
  },
  {
   "cell_type": "code",
   "execution_count": 3,
   "metadata": {},
   "outputs": [
    {
     "data": {
      "text/html": [
       "<div>\n",
       "<style scoped>\n",
       "    .dataframe tbody tr th:only-of-type {\n",
       "        vertical-align: middle;\n",
       "    }\n",
       "\n",
       "    .dataframe tbody tr th {\n",
       "        vertical-align: top;\n",
       "    }\n",
       "\n",
       "    .dataframe thead th {\n",
       "        text-align: right;\n",
       "    }\n",
       "</style>\n",
       "<table border=\"1\" class=\"dataframe\">\n",
       "  <thead>\n",
       "    <tr style=\"text-align: right;\">\n",
       "      <th></th>\n",
       "      <th>PERMNO</th>\n",
       "      <th>date</th>\n",
       "      <th>PRC</th>\n",
       "    </tr>\n",
       "  </thead>\n",
       "  <tbody>\n",
       "    <tr>\n",
       "      <th>0</th>\n",
       "      <td>10001</td>\n",
       "      <td>2000-01-03</td>\n",
       "      <td>8.5625</td>\n",
       "    </tr>\n",
       "    <tr>\n",
       "      <th>1</th>\n",
       "      <td>10001</td>\n",
       "      <td>2000-01-04</td>\n",
       "      <td>8.4375</td>\n",
       "    </tr>\n",
       "    <tr>\n",
       "      <th>2</th>\n",
       "      <td>10001</td>\n",
       "      <td>2000-01-05</td>\n",
       "      <td>8.5625</td>\n",
       "    </tr>\n",
       "    <tr>\n",
       "      <th>3</th>\n",
       "      <td>10001</td>\n",
       "      <td>2000-01-06</td>\n",
       "      <td>8.5000</td>\n",
       "    </tr>\n",
       "    <tr>\n",
       "      <th>4</th>\n",
       "      <td>10001</td>\n",
       "      <td>2000-01-07</td>\n",
       "      <td>8.4375</td>\n",
       "    </tr>\n",
       "    <tr>\n",
       "      <th>...</th>\n",
       "      <td>...</td>\n",
       "      <td>...</td>\n",
       "      <td>...</td>\n",
       "    </tr>\n",
       "    <tr>\n",
       "      <th>42561772</th>\n",
       "      <td>93436</td>\n",
       "      <td>2022-12-23</td>\n",
       "      <td>123.1500</td>\n",
       "    </tr>\n",
       "    <tr>\n",
       "      <th>42561773</th>\n",
       "      <td>93436</td>\n",
       "      <td>2022-12-27</td>\n",
       "      <td>109.1000</td>\n",
       "    </tr>\n",
       "    <tr>\n",
       "      <th>42561774</th>\n",
       "      <td>93436</td>\n",
       "      <td>2022-12-28</td>\n",
       "      <td>112.7100</td>\n",
       "    </tr>\n",
       "    <tr>\n",
       "      <th>42561775</th>\n",
       "      <td>93436</td>\n",
       "      <td>2022-12-29</td>\n",
       "      <td>121.8200</td>\n",
       "    </tr>\n",
       "    <tr>\n",
       "      <th>42561776</th>\n",
       "      <td>93436</td>\n",
       "      <td>2022-12-30</td>\n",
       "      <td>123.1800</td>\n",
       "    </tr>\n",
       "  </tbody>\n",
       "</table>\n",
       "<p>42561777 rows × 3 columns</p>\n",
       "</div>"
      ],
      "text/plain": [
       "          PERMNO        date       PRC\n",
       "0          10001  2000-01-03    8.5625\n",
       "1          10001  2000-01-04    8.4375\n",
       "2          10001  2000-01-05    8.5625\n",
       "3          10001  2000-01-06    8.5000\n",
       "4          10001  2000-01-07    8.4375\n",
       "...          ...         ...       ...\n",
       "42561772   93436  2022-12-23  123.1500\n",
       "42561773   93436  2022-12-27  109.1000\n",
       "42561774   93436  2022-12-28  112.7100\n",
       "42561775   93436  2022-12-29  121.8200\n",
       "42561776   93436  2022-12-30  123.1800\n",
       "\n",
       "[42561777 rows x 3 columns]"
      ]
     },
     "execution_count": 3,
     "metadata": {},
     "output_type": "execute_result"
    }
   ],
   "source": [
    "stock = pd.read_pickle(\"allstock.pickle\")\n",
    "stock"
   ]
  },
  {
   "cell_type": "code",
   "execution_count": 4,
   "metadata": {},
   "outputs": [],
   "source": [
    "table = pd.pivot_table(stock, \n",
    "               values=\"PRC\",\n",
    "               index=\"date\",\n",
    "               columns=\"PERMNO\")"
   ]
  },
  {
   "cell_type": "code",
   "execution_count": 29,
   "metadata": {},
   "outputs": [
    {
     "data": {
      "text/html": [
       "<div>\n",
       "<style scoped>\n",
       "    .dataframe tbody tr th:only-of-type {\n",
       "        vertical-align: middle;\n",
       "    }\n",
       "\n",
       "    .dataframe tbody tr th {\n",
       "        vertical-align: top;\n",
       "    }\n",
       "\n",
       "    .dataframe thead th {\n",
       "        text-align: right;\n",
       "    }\n",
       "</style>\n",
       "<table border=\"1\" class=\"dataframe\">\n",
       "  <thead>\n",
       "    <tr style=\"text-align: right;\">\n",
       "      <th></th>\n",
       "      <th>permno</th>\n",
       "      <th>start</th>\n",
       "      <th>ending</th>\n",
       "    </tr>\n",
       "  </thead>\n",
       "  <tbody>\n",
       "    <tr>\n",
       "      <th>0</th>\n",
       "      <td>10107.0</td>\n",
       "      <td>1994-06-07</td>\n",
       "      <td>2022-12-30</td>\n",
       "    </tr>\n",
       "    <tr>\n",
       "      <th>1</th>\n",
       "      <td>10145.0</td>\n",
       "      <td>1925-12-31</td>\n",
       "      <td>2022-12-30</td>\n",
       "    </tr>\n",
       "    <tr>\n",
       "      <th>2</th>\n",
       "      <td>60599.0</td>\n",
       "      <td>1999-03-25</td>\n",
       "      <td>2022-12-30</td>\n",
       "    </tr>\n",
       "    <tr>\n",
       "      <th>3</th>\n",
       "      <td>25267.0</td>\n",
       "      <td>1957-03-01</td>\n",
       "      <td>2002-07-19</td>\n",
       "    </tr>\n",
       "    <tr>\n",
       "      <th>4</th>\n",
       "      <td>64282.0</td>\n",
       "      <td>1983-09-15</td>\n",
       "      <td>2022-12-30</td>\n",
       "    </tr>\n",
       "    <tr>\n",
       "      <th>...</th>\n",
       "      <td>...</td>\n",
       "      <td>...</td>\n",
       "      <td>...</td>\n",
       "    </tr>\n",
       "    <tr>\n",
       "      <th>138446</th>\n",
       "      <td>86868.0</td>\n",
       "      <td>2002-07-22</td>\n",
       "      <td>2022-12-30</td>\n",
       "    </tr>\n",
       "    <tr>\n",
       "      <th>138447</th>\n",
       "      <td>82651.0</td>\n",
       "      <td>2002-01-02</td>\n",
       "      <td>2022-12-30</td>\n",
       "    </tr>\n",
       "    <tr>\n",
       "      <th>138448</th>\n",
       "      <td>90248.0</td>\n",
       "      <td>2020-05-12</td>\n",
       "      <td>2022-12-30</td>\n",
       "    </tr>\n",
       "    <tr>\n",
       "      <th>138449</th>\n",
       "      <td>13035.0</td>\n",
       "      <td>2011-11-01</td>\n",
       "      <td>2022-12-30</td>\n",
       "    </tr>\n",
       "    <tr>\n",
       "      <th>138450</th>\n",
       "      <td>91611.0</td>\n",
       "      <td>2022-12-19</td>\n",
       "      <td>2022-12-30</td>\n",
       "    </tr>\n",
       "  </tbody>\n",
       "</table>\n",
       "<p>138451 rows × 3 columns</p>\n",
       "</div>"
      ],
      "text/plain": [
       "         permno      start     ending\n",
       "0       10107.0 1994-06-07 2022-12-30\n",
       "1       10145.0 1925-12-31 2022-12-30\n",
       "2       60599.0 1999-03-25 2022-12-30\n",
       "3       25267.0 1957-03-01 2002-07-19\n",
       "4       64282.0 1983-09-15 2022-12-30\n",
       "...         ...        ...        ...\n",
       "138446  86868.0 2002-07-22 2022-12-30\n",
       "138447  82651.0 2002-01-02 2022-12-30\n",
       "138448  90248.0 2020-05-12 2022-12-30\n",
       "138449  13035.0 2011-11-01 2022-12-30\n",
       "138450  91611.0 2022-12-19 2022-12-30\n",
       "\n",
       "[138451 rows x 3 columns]"
      ]
     },
     "execution_count": 29,
     "metadata": {},
     "output_type": "execute_result"
    }
   ],
   "source": [
    "listing"
   ]
  },
  {
   "cell_type": "code",
   "execution_count": 28,
   "metadata": {},
   "outputs": [
    {
     "data": {
      "text/html": [
       "<div>\n",
       "<style scoped>\n",
       "    .dataframe tbody tr th:only-of-type {\n",
       "        vertical-align: middle;\n",
       "    }\n",
       "\n",
       "    .dataframe tbody tr th {\n",
       "        vertical-align: top;\n",
       "    }\n",
       "\n",
       "    .dataframe thead th {\n",
       "        text-align: right;\n",
       "    }\n",
       "</style>\n",
       "<table border=\"1\" class=\"dataframe\">\n",
       "  <thead>\n",
       "    <tr style=\"text-align: right;\">\n",
       "      <th></th>\n",
       "      <th>permno</th>\n",
       "      <th>start</th>\n",
       "      <th>ending</th>\n",
       "    </tr>\n",
       "  </thead>\n",
       "  <tbody>\n",
       "    <tr>\n",
       "      <th>27528</th>\n",
       "      <td>10078.0</td>\n",
       "      <td>1992-08-20</td>\n",
       "      <td>2010-01-28</td>\n",
       "    </tr>\n",
       "    <tr>\n",
       "      <th>4994</th>\n",
       "      <td>10078.0</td>\n",
       "      <td>1992-08-20</td>\n",
       "      <td>2010-01-28</td>\n",
       "    </tr>\n",
       "    <tr>\n",
       "      <th>32537</th>\n",
       "      <td>10078.0</td>\n",
       "      <td>1992-08-20</td>\n",
       "      <td>2010-01-28</td>\n",
       "    </tr>\n",
       "    <tr>\n",
       "      <th>56778</th>\n",
       "      <td>10078.0</td>\n",
       "      <td>1992-08-20</td>\n",
       "      <td>2010-01-28</td>\n",
       "    </tr>\n",
       "    <tr>\n",
       "      <th>2456</th>\n",
       "      <td>10078.0</td>\n",
       "      <td>1992-08-20</td>\n",
       "      <td>2010-01-28</td>\n",
       "    </tr>\n",
       "    <tr>\n",
       "      <th>...</th>\n",
       "      <td>...</td>\n",
       "      <td>...</td>\n",
       "      <td>...</td>\n",
       "    </tr>\n",
       "    <tr>\n",
       "      <th>132905</th>\n",
       "      <td>93436.0</td>\n",
       "      <td>2020-12-21</td>\n",
       "      <td>2022-12-30</td>\n",
       "    </tr>\n",
       "    <tr>\n",
       "      <th>132933</th>\n",
       "      <td>93436.0</td>\n",
       "      <td>2020-12-21</td>\n",
       "      <td>2022-12-30</td>\n",
       "    </tr>\n",
       "    <tr>\n",
       "      <th>135438</th>\n",
       "      <td>93436.0</td>\n",
       "      <td>2020-12-21</td>\n",
       "      <td>2022-12-30</td>\n",
       "    </tr>\n",
       "    <tr>\n",
       "      <th>127145</th>\n",
       "      <td>93436.0</td>\n",
       "      <td>2020-12-21</td>\n",
       "      <td>2022-12-30</td>\n",
       "    </tr>\n",
       "    <tr>\n",
       "      <th>135357</th>\n",
       "      <td>93436.0</td>\n",
       "      <td>2020-12-21</td>\n",
       "      <td>2022-12-30</td>\n",
       "    </tr>\n",
       "  </tbody>\n",
       "</table>\n",
       "<p>138451 rows × 3 columns</p>\n",
       "</div>"
      ],
      "text/plain": [
       "         permno      start     ending\n",
       "27528   10078.0 1992-08-20 2010-01-28\n",
       "4994    10078.0 1992-08-20 2010-01-28\n",
       "32537   10078.0 1992-08-20 2010-01-28\n",
       "56778   10078.0 1992-08-20 2010-01-28\n",
       "2456    10078.0 1992-08-20 2010-01-28\n",
       "...         ...        ...        ...\n",
       "132905  93436.0 2020-12-21 2022-12-30\n",
       "132933  93436.0 2020-12-21 2022-12-30\n",
       "135438  93436.0 2020-12-21 2022-12-30\n",
       "127145  93436.0 2020-12-21 2022-12-30\n",
       "135357  93436.0 2020-12-21 2022-12-30\n",
       "\n",
       "[138451 rows x 3 columns]"
      ]
     },
     "execution_count": 28,
     "metadata": {},
     "output_type": "execute_result"
    }
   ],
   "source": [
    "listing.sort_values(\"permno\")"
   ]
  },
  {
   "cell_type": "code",
   "execution_count": 5,
   "metadata": {},
   "outputs": [],
   "source": [
    "listing_pp = listing.drop_duplicates().reset_index(drop=True)"
   ]
  },
  {
   "cell_type": "code",
   "execution_count": 6,
   "metadata": {},
   "outputs": [],
   "source": [
    "code = listing_pp.permno.values\n",
    "\n",
    "table_pp = table.loc[:, code]"
   ]
  },
  {
   "cell_type": "code",
   "execution_count": 7,
   "metadata": {},
   "outputs": [],
   "source": [
    "table_pp.index = pd.to_datetime(table_pp.index)"
   ]
  },
  {
   "cell_type": "code",
   "execution_count": 8,
   "metadata": {},
   "outputs": [],
   "source": [
    "# 빈 데이터프레임 생성\n",
    "idx = table_pp.index\n",
    "col = table_pp.columns\n",
    "\n",
    "mask = pd.DataFrame(index=idx, \n",
    "                    columns=col)"
   ]
  },
  {
   "cell_type": "code",
   "execution_count": 18,
   "metadata": {},
   "outputs": [
    {
     "data": {
      "text/plain": [
       "Timestamp('1994-06-08 00:00:00')"
      ]
     },
     "execution_count": 18,
     "metadata": {},
     "output_type": "execute_result"
    }
   ],
   "source": [
    "listing_pp.start[0] "
   ]
  },
  {
   "cell_type": "code",
   "execution_count": 22,
   "metadata": {},
   "outputs": [],
   "source": [
    "for idx, row in listing_pp.iterrows():\n",
    "    mask.loc[row.start:row.ending, row.permno] = 1"
   ]
  },
  {
   "cell_type": "code",
   "execution_count": 27,
   "metadata": {},
   "outputs": [
    {
     "data": {
      "text/plain": [
       "<AxesSubplot:xlabel='date'>"
      ]
     },
     "execution_count": 27,
     "metadata": {},
     "output_type": "execute_result"
    },
    {
     "data": {
      "image/png": "[encoded data removed]",
      "text/plain": [
       "<Figure size 2400x1200 with 1 Axes>"
      ]
     },
     "metadata": {},
     "output_type": "display_data"
    }
   ],
   "source": [
    "mask.sum(1).plot(figsize=(24,12))"
   ]
  },
  {
   "cell_type": "code",
   "execution_count": null,
   "metadata": {},
   "outputs": [],
   "source": [
    "()"
   ]
  }
 ],
 "metadata": {
  "kernelspec": {
   "display_name": "base",
   "language": "python",
   "name": "python3"
  },
  "language_info": {
   "codemirror_mode": {
    "name": "ipython",
    "version": 3
   },
   "file_extension": ".py",
   "mimetype": "text/x-python",
   "name": "python",
   "nbconvert_exporter": "python",
   "pygments_lexer": "ipython3",
   "version": "3.9.13"
  },
  "orig_nbformat": 4
 },
 "nbformat": 4,
 "nbformat_minor": 2
}
