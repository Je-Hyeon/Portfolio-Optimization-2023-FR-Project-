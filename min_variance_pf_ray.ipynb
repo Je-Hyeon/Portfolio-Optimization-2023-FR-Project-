{
 "cells": [
  {
   "cell_type": "code",
   "execution_count": null,
   "metadata": {},
   "outputs": [],
   "source": [
    "import numpy as np \n",
    "import pandas as pd \n",
    "import matplotlib.pyplot as plt\n",
    "import ray\n",
    "from ryu_tool import mytool\n",
    "from ryu_tool.min_variance_ray import PortfolioOptimzer"
   ]
  },
  {
   "cell_type": "code",
   "execution_count": null,
   "metadata": {},
   "outputs": [],
   "source": [
    "# 필요한 파일을 불러옵니다\n",
    "stock_price = pd.read_pickle(\"Data/allstock_reduced.pickle\")\n",
    "spy_mask = pd.read_pickle(\"Data/spx_mask.pickle\")"
   ]
  },
  {
   "cell_type": "code",
   "execution_count": null,
   "metadata": {},
   "outputs": [],
   "source": [
    "stock_price_ray = ray.put(stock_price)\n",
    "spy_mask_ray = ray.put(spy_mask)"
   ]
  },
  {
   "cell_type": "code",
   "execution_count": null,
   "metadata": {},
   "outputs": [],
   "source": [
    "portfolio = PortfolioOptimzer.remote(price=stock_price_ray,\n",
    "                                     spx_mask=spy_mask_ray)"
   ]
  },
  {
   "attachments": {},
   "cell_type": "markdown",
   "metadata": {},
   "source": [
    "        shrinkage_method : str -> [None, linear, constant, clipping, clustering]\n"
   ]
  },
  {
   "cell_type": "code",
   "execution_count": null,
   "metadata": {},
   "outputs": [
    {
     "name": "stderr",
     "output_type": "stream",
     "text": [
      " 54%|█████▍    | 37/68 [02:35<02:20,  4.52s/it]\n"
     ]
    }
   ],
   "source": [
    "futures = [portfolio.run_optimizer.remote(start_year=\"2006\",\n",
    "                                          end_year=\"2023\",\n",
    "                                          rebalancing=\"Q\",\n",
    "                                          shrinkage_method=method) for method in [\"None\",\"linear\",\"constant\",\"clipping\"]]"
   ]
  },
  {
   "cell_type": "code",
   "execution_count": null,
   "metadata": {},
   "outputs": [],
   "source": [
    "futures"
   ]
  },
  {
   "cell_type": "code",
   "execution_count": null,
   "metadata": {},
   "outputs": [],
   "source": [
    "a,b = mytool.simulate_rebalancing(portfolio.rtn, \n",
    "                                  linear_weight)"
   ]
  },
  {
   "cell_type": "code",
   "execution_count": null,
   "metadata": {},
   "outputs": [],
   "source": [
    "pd.Series(a).plot(figsize=(24,12));"
   ]
  },
  {
   "cell_type": "code",
   "execution_count": null,
   "metadata": {},
   "outputs": [],
   "source": []
  }
 ],
 "metadata": {
  "kernelspec": {
   "display_name": "base",
   "language": "python",
   "name": "python3"
  },
  "language_info": {
   "codemirror_mode": {
    "name": "ipython",
    "version": 3
   },
   "file_extension": ".py",
   "mimetype": "text/x-python",
   "name": "python",
   "nbconvert_exporter": "python",
   "pygments_lexer": "ipython3",
   "version": "3.9.13"
  },
  "orig_nbformat": 4
 },
 "nbformat": 4,
 "nbformat_minor": 2
}
